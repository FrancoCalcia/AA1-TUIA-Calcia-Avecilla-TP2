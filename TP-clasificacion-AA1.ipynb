{
 "cells": [
  {
   "cell_type": "markdown",
   "metadata": {},
   "source": [
    "# Predicción de Lluvia en Australia\n",
    "\n",
    "### Facultad de Ciencias Exactas, Ingeniería y Agrimensura  \n",
    "### Tecnicatura en Inteligencia Artificial  \n",
    "### Aprendizaje Automático 1  \n",
    "\n",
    "**Trabajo Práctico**: Predicción de lluvia utilizando modelos de clasificación y redes neuronales.\n",
    "\n",
    "**Autores**:  \n",
    "- Avecilla Tomas \n",
    "- Calcia Franco  \n",
    "\n",
    " \n",
    "\n",
    "---\n",
    "\n",
    "### Objetivo\n",
    "Desarrollar un modelo de predicción de la variable `RainTomorrow` basado en datos climáticos de Australia, utilizando técnicas de pre-procesamiento, modelado, evaluación y optimización de modelos, para su posterior puesta en producción.\n",
    "\n"
   ]
  },
  {
   "cell_type": "markdown",
   "metadata": {},
   "source": [
    "### Diccionario de Datos\n",
    "\n",
    "| Variable         | Descripción                                                       | Tipo        | Ejemplo       \n",
    "|-------------------|------------------------------------------------------------------|-------------|---------------\n",
    "| **Date**          | Fecha de la observación del clima.                               | object      | 2010-01-01    \n",
    "| **Location**      | Ciudad donde se realizó la medición del clima.                  | object      | Sydney        \n",
    "| **MinTemp**       | Temperatura mínima del día (en grados Celsius).                 | float64     | 12.3          \n",
    "| **MaxTemp**       | Temperatura máxima del día (en grados Celsius).                 | float64     | 28.9          \n",
    "| **Rainfall**      | Cantidad de lluvia caída en milímetros durante el día.          | float64     | 0.0           \n",
    "| **Evaporation**   | Evaporación en milímetros durante el día.                       | float64     | 0.0           \n",
    "| **Sunshine**      | Horas de sol durante el día.                                    | float64     | 8.0           \n",
    "| **WindGustDir**   | Dirección del viento racheado (en grados).                      | object      | NNE           \n",
    "| **WindGustSpeed** | Velocidad del viento racheado (en km/h).                        | float64     | 15.0          \n",
    "| **WindDir9am**    | Dirección del viento a las 9 am.                                | object      | NNE           \n",
    "| **WindDir3pm**    | Dirección del viento a las 3 pm.                                | object      | SSE          \n",
    "| **WindSpeed9am**  | Velocidad del viento a las 9 am (en km/h).                     | float64     | 5.0           \n",
    "| **WindSpeed3pm**  | Velocidad del viento a las 3 pm (en km/h).                     | float64     | 10.0          \n",
    "| **Humidity9am**   | Humedad relativa a las 9 am (%).                               | float64     | 65.0          \n",
    "| **Humidity3pm**   | Humedad relativa a las 3 pm (%).                               | float64     | 55.0          \n",
    "| **Pressure9am**   | Presión atmosférica a las 9 am (hPa).                          | float64     | 1012.0        \n",
    "| **Pressure3pm**   | Presión atmosférica a las 3 pm (hPa).                          | float64     | 1011.0        \n",
    "| **Cloud9am**      | Cobertura nubosa a las 9 am (en octavos).                      | float64     | 2.0           \n",
    "| **Cloud3pm**      | Cobertura nubosa a las 3 pm (en octavos).                      | float64     | 3.0           \n",
    "| **Temp9am**       | Temperatura a las 9 am (en grados Celsius).                    | float64     | 15.0          \n",
    "| **Temp3pm**       | Temperatura a las 3 pm (en grados Celsius).                    | float64     | 20.0          \n",
    "| **RainToday**     | Indica si llovió hoy (Yes/No).                                 | object      | Yes           \n",
    "| **RainTomorrow** _(Target)_ | Indica si lloverá mañana (Yes/No).                             | object      | No            \n"
   ]
  },
  {
   "cell_type": "markdown",
   "metadata": {},
   "source": [
    "## Preparación del entorno de trabajo"
   ]
  },
  {
   "cell_type": "code",
   "execution_count": 328,
   "metadata": {},
   "outputs": [],
   "source": [
    "\n",
    "import pandas as pd\n",
    "import numpy as np\n",
    "import matplotlib.pyplot as plt\n",
    "import seaborn as sns\n",
    "import scipy.stats as stats\n",
    "import statsmodels.api as sm\n",
    "from sklearn.impute import KNNImputer\n",
    "from sklearn.model_selection import train_test_split\n",
    "from sklearn.linear_model import LinearRegression, LassoCV, RidgeCV, ElasticNetCV\n",
    "from sklearn.metrics import mean_squared_error, r2_score, mean_absolute_percentage_error, mean_absolute_error\n",
    "from matplotlib.colors import LinearSegmentedColormap\n",
    "from sklearn.preprocessing import RobustScaler,StandardScaler\n"
   ]
  },
  {
   "cell_type": "code",
   "execution_count": 329,
   "metadata": {},
   "outputs": [
    {
     "name": "stderr",
     "output_type": "stream",
     "text": [
      "Downloading...\n",
      "From: https://drive.google.com/uc?id=1yBz9nW8bcB7WCiwWhrjaU-Oifl-9L76D\n",
      "To: d:\\Users\\franco\\Documents\\IA-UNR\\4toCuatrimestre\\AA1\\TP2\\AA1-TUIA-Calcia-Avecilla\\weatherAUS.csv\n",
      "\n",
      "  0%|          | 0.00/14.1M [00:00<?, ?B/s]\n",
      "  4%|▎         | 524k/14.1M [00:00<00:03, 4.29MB/s]\n",
      " 11%|█         | 1.57M/14.1M [00:00<00:02, 5.84MB/s]\n",
      " 19%|█▊        | 2.62M/14.1M [00:00<00:01, 6.17MB/s]\n",
      " 26%|██▌       | 3.67M/14.1M [00:00<00:01, 6.73MB/s]\n",
      " 33%|███▎      | 4.72M/14.1M [00:00<00:01, 6.50MB/s]\n",
      " 41%|████      | 5.77M/14.1M [00:00<00:01, 5.66MB/s]\n",
      " 48%|████▊     | 6.82M/14.1M [00:01<00:01, 5.93MB/s]\n",
      " 56%|█████▌    | 7.86M/14.1M [00:01<00:01, 5.33MB/s]\n",
      " 63%|██████▎   | 8.91M/14.1M [00:01<00:00, 5.55MB/s]\n",
      " 71%|███████   | 9.96M/14.1M [00:01<00:00, 5.69MB/s]\n",
      " 78%|███████▊  | 11.0M/14.1M [00:01<00:00, 5.84MB/s]\n",
      " 86%|████████▌ | 12.1M/14.1M [00:02<00:00, 5.93MB/s]\n",
      " 93%|█████████▎| 13.1M/14.1M [00:02<00:00, 5.31MB/s]\n",
      "100%|██████████| 14.1M/14.1M [00:02<00:00, 6.01MB/s]\n"
     ]
    }
   ],
   "source": [
    "!gdown \"1yBz9nW8bcB7WCiwWhrjaU-Oifl-9L76D\" --output \"weatherAUS.csv\""
   ]
  },
  {
   "cell_type": "code",
   "execution_count": 330,
   "metadata": {},
   "outputs": [],
   "source": [
    "df_clima = pd.read_csv(\"weatherAUS.csv\")"
   ]
  },
  {
   "cell_type": "markdown",
   "metadata": {},
   "source": [
    "## Análisis Exploratorio"
   ]
  },
  {
   "cell_type": "code",
   "execution_count": 331,
   "metadata": {},
   "outputs": [
    {
     "data": {
      "text/html": [
       "<div>\n",
       "<style scoped>\n",
       "    .dataframe tbody tr th:only-of-type {\n",
       "        vertical-align: middle;\n",
       "    }\n",
       "\n",
       "    .dataframe tbody tr th {\n",
       "        vertical-align: top;\n",
       "    }\n",
       "\n",
       "    .dataframe thead th {\n",
       "        text-align: right;\n",
       "    }\n",
       "</style>\n",
       "<table border=\"1\" class=\"dataframe\">\n",
       "  <thead>\n",
       "    <tr style=\"text-align: right;\">\n",
       "      <th></th>\n",
       "      <th>Date</th>\n",
       "      <th>Location</th>\n",
       "      <th>MinTemp</th>\n",
       "      <th>MaxTemp</th>\n",
       "      <th>Rainfall</th>\n",
       "      <th>Evaporation</th>\n",
       "      <th>Sunshine</th>\n",
       "      <th>WindGustDir</th>\n",
       "      <th>WindGustSpeed</th>\n",
       "      <th>WindDir9am</th>\n",
       "      <th>...</th>\n",
       "      <th>Humidity9am</th>\n",
       "      <th>Humidity3pm</th>\n",
       "      <th>Pressure9am</th>\n",
       "      <th>Pressure3pm</th>\n",
       "      <th>Cloud9am</th>\n",
       "      <th>Cloud3pm</th>\n",
       "      <th>Temp9am</th>\n",
       "      <th>Temp3pm</th>\n",
       "      <th>RainToday</th>\n",
       "      <th>RainTomorrow</th>\n",
       "    </tr>\n",
       "  </thead>\n",
       "  <tbody>\n",
       "    <tr>\n",
       "      <th>0</th>\n",
       "      <td>2008-12-01</td>\n",
       "      <td>Albury</td>\n",
       "      <td>13.4</td>\n",
       "      <td>22.9</td>\n",
       "      <td>0.6</td>\n",
       "      <td>NaN</td>\n",
       "      <td>NaN</td>\n",
       "      <td>W</td>\n",
       "      <td>44.0</td>\n",
       "      <td>W</td>\n",
       "      <td>...</td>\n",
       "      <td>71.0</td>\n",
       "      <td>22.0</td>\n",
       "      <td>1007.7</td>\n",
       "      <td>1007.1</td>\n",
       "      <td>8.0</td>\n",
       "      <td>NaN</td>\n",
       "      <td>16.9</td>\n",
       "      <td>21.8</td>\n",
       "      <td>No</td>\n",
       "      <td>No</td>\n",
       "    </tr>\n",
       "    <tr>\n",
       "      <th>1</th>\n",
       "      <td>2008-12-02</td>\n",
       "      <td>Albury</td>\n",
       "      <td>7.4</td>\n",
       "      <td>25.1</td>\n",
       "      <td>0.0</td>\n",
       "      <td>NaN</td>\n",
       "      <td>NaN</td>\n",
       "      <td>WNW</td>\n",
       "      <td>44.0</td>\n",
       "      <td>NNW</td>\n",
       "      <td>...</td>\n",
       "      <td>44.0</td>\n",
       "      <td>25.0</td>\n",
       "      <td>1010.6</td>\n",
       "      <td>1007.8</td>\n",
       "      <td>NaN</td>\n",
       "      <td>NaN</td>\n",
       "      <td>17.2</td>\n",
       "      <td>24.3</td>\n",
       "      <td>No</td>\n",
       "      <td>No</td>\n",
       "    </tr>\n",
       "    <tr>\n",
       "      <th>2</th>\n",
       "      <td>2008-12-03</td>\n",
       "      <td>Albury</td>\n",
       "      <td>12.9</td>\n",
       "      <td>25.7</td>\n",
       "      <td>0.0</td>\n",
       "      <td>NaN</td>\n",
       "      <td>NaN</td>\n",
       "      <td>WSW</td>\n",
       "      <td>46.0</td>\n",
       "      <td>W</td>\n",
       "      <td>...</td>\n",
       "      <td>38.0</td>\n",
       "      <td>30.0</td>\n",
       "      <td>1007.6</td>\n",
       "      <td>1008.7</td>\n",
       "      <td>NaN</td>\n",
       "      <td>2.0</td>\n",
       "      <td>21.0</td>\n",
       "      <td>23.2</td>\n",
       "      <td>No</td>\n",
       "      <td>No</td>\n",
       "    </tr>\n",
       "    <tr>\n",
       "      <th>3</th>\n",
       "      <td>2008-12-04</td>\n",
       "      <td>Albury</td>\n",
       "      <td>9.2</td>\n",
       "      <td>28.0</td>\n",
       "      <td>0.0</td>\n",
       "      <td>NaN</td>\n",
       "      <td>NaN</td>\n",
       "      <td>NE</td>\n",
       "      <td>24.0</td>\n",
       "      <td>SE</td>\n",
       "      <td>...</td>\n",
       "      <td>45.0</td>\n",
       "      <td>16.0</td>\n",
       "      <td>1017.6</td>\n",
       "      <td>1012.8</td>\n",
       "      <td>NaN</td>\n",
       "      <td>NaN</td>\n",
       "      <td>18.1</td>\n",
       "      <td>26.5</td>\n",
       "      <td>No</td>\n",
       "      <td>No</td>\n",
       "    </tr>\n",
       "    <tr>\n",
       "      <th>4</th>\n",
       "      <td>2008-12-05</td>\n",
       "      <td>Albury</td>\n",
       "      <td>17.5</td>\n",
       "      <td>32.3</td>\n",
       "      <td>1.0</td>\n",
       "      <td>NaN</td>\n",
       "      <td>NaN</td>\n",
       "      <td>W</td>\n",
       "      <td>41.0</td>\n",
       "      <td>ENE</td>\n",
       "      <td>...</td>\n",
       "      <td>82.0</td>\n",
       "      <td>33.0</td>\n",
       "      <td>1010.8</td>\n",
       "      <td>1006.0</td>\n",
       "      <td>7.0</td>\n",
       "      <td>8.0</td>\n",
       "      <td>17.8</td>\n",
       "      <td>29.7</td>\n",
       "      <td>No</td>\n",
       "      <td>No</td>\n",
       "    </tr>\n",
       "  </tbody>\n",
       "</table>\n",
       "<p>5 rows × 23 columns</p>\n",
       "</div>"
      ],
      "text/plain": [
       "         Date Location  MinTemp  MaxTemp  Rainfall  Evaporation  Sunshine  \\\n",
       "0  2008-12-01   Albury     13.4     22.9       0.6          NaN       NaN   \n",
       "1  2008-12-02   Albury      7.4     25.1       0.0          NaN       NaN   \n",
       "2  2008-12-03   Albury     12.9     25.7       0.0          NaN       NaN   \n",
       "3  2008-12-04   Albury      9.2     28.0       0.0          NaN       NaN   \n",
       "4  2008-12-05   Albury     17.5     32.3       1.0          NaN       NaN   \n",
       "\n",
       "  WindGustDir  WindGustSpeed WindDir9am  ... Humidity9am  Humidity3pm  \\\n",
       "0           W           44.0          W  ...        71.0         22.0   \n",
       "1         WNW           44.0        NNW  ...        44.0         25.0   \n",
       "2         WSW           46.0          W  ...        38.0         30.0   \n",
       "3          NE           24.0         SE  ...        45.0         16.0   \n",
       "4           W           41.0        ENE  ...        82.0         33.0   \n",
       "\n",
       "   Pressure9am  Pressure3pm  Cloud9am  Cloud3pm  Temp9am  Temp3pm  RainToday  \\\n",
       "0       1007.7       1007.1       8.0       NaN     16.9     21.8         No   \n",
       "1       1010.6       1007.8       NaN       NaN     17.2     24.3         No   \n",
       "2       1007.6       1008.7       NaN       2.0     21.0     23.2         No   \n",
       "3       1017.6       1012.8       NaN       NaN     18.1     26.5         No   \n",
       "4       1010.8       1006.0       7.0       8.0     17.8     29.7         No   \n",
       "\n",
       "   RainTomorrow  \n",
       "0            No  \n",
       "1            No  \n",
       "2            No  \n",
       "3            No  \n",
       "4            No  \n",
       "\n",
       "[5 rows x 23 columns]"
      ]
     },
     "execution_count": 331,
     "metadata": {},
     "output_type": "execute_result"
    }
   ],
   "source": [
    "df_clima.head()"
   ]
  },
  {
   "cell_type": "code",
   "execution_count": 332,
   "metadata": {},
   "outputs": [
    {
     "name": "stdout",
     "output_type": "stream",
     "text": [
      "<class 'pandas.core.frame.DataFrame'>\n",
      "RangeIndex: 145460 entries, 0 to 145459\n",
      "Data columns (total 23 columns):\n",
      " #   Column         Non-Null Count   Dtype  \n",
      "---  ------         --------------   -----  \n",
      " 0   Date           145460 non-null  object \n",
      " 1   Location       145460 non-null  object \n",
      " 2   MinTemp        143975 non-null  float64\n",
      " 3   MaxTemp        144199 non-null  float64\n",
      " 4   Rainfall       142199 non-null  float64\n",
      " 5   Evaporation    82670 non-null   float64\n",
      " 6   Sunshine       75625 non-null   float64\n",
      " 7   WindGustDir    135134 non-null  object \n",
      " 8   WindGustSpeed  135197 non-null  float64\n",
      " 9   WindDir9am     134894 non-null  object \n",
      " 10  WindDir3pm     141232 non-null  object \n",
      " 11  WindSpeed9am   143693 non-null  float64\n",
      " 12  WindSpeed3pm   142398 non-null  float64\n",
      " 13  Humidity9am    142806 non-null  float64\n",
      " 14  Humidity3pm    140953 non-null  float64\n",
      " 15  Pressure9am    130395 non-null  float64\n",
      " 16  Pressure3pm    130432 non-null  float64\n",
      " 17  Cloud9am       89572 non-null   float64\n",
      " 18  Cloud3pm       86102 non-null   float64\n",
      " 19  Temp9am        143693 non-null  float64\n",
      " 20  Temp3pm        141851 non-null  float64\n",
      " 21  RainToday      142199 non-null  object \n",
      " 22  RainTomorrow   142193 non-null  object \n",
      "dtypes: float64(16), object(7)\n",
      "memory usage: 25.5+ MB\n"
     ]
    }
   ],
   "source": [
    "df_clima.info()"
   ]
  },
  {
   "cell_type": "markdown",
   "metadata": {},
   "source": [
    "Notamos que tenemos que cambiar el tipo de ciertas columnas"
   ]
  },
  {
   "cell_type": "code",
   "execution_count": 333,
   "metadata": {},
   "outputs": [],
   "source": [
    "df_clima['Date'] = pd.to_datetime(df_clima['Date'])\n",
    "\n",
    "df_clima['RainToday'] = df_clima['RainToday'].astype('category')\n",
    "df_clima['RainTomorrow'] = df_clima['RainTomorrow'].astype('category')\n"
   ]
  },
  {
   "cell_type": "markdown",
   "metadata": {},
   "source": [
    "Nos encontramos con otras columnas de tipo object y vamos a verificarlas antes de transformarlas"
   ]
  },
  {
   "cell_type": "code",
   "execution_count": 334,
   "metadata": {},
   "outputs": [
    {
     "data": {
      "text/plain": [
       "array(['WNW', 'WSW', 'E', 'NW', 'W', 'SSE', 'ESE', 'ENE', 'NNW', 'SSW',\n",
       "       'SW', 'SE', 'N', 'S', 'NNE', nan, 'NE'], dtype=object)"
      ]
     },
     "execution_count": 334,
     "metadata": {},
     "output_type": "execute_result"
    }
   ],
   "source": [
    "df_clima[\"WindDir3pm\"].unique()"
   ]
  },
  {
   "cell_type": "code",
   "execution_count": 335,
   "metadata": {},
   "outputs": [
    {
     "data": {
      "text/plain": [
       "array(['W', 'NNW', 'SE', 'ENE', 'SW', 'SSE', 'S', 'NE', nan, 'SSW', 'N',\n",
       "       'WSW', 'ESE', 'E', 'NW', 'WNW', 'NNE'], dtype=object)"
      ]
     },
     "execution_count": 335,
     "metadata": {},
     "output_type": "execute_result"
    }
   ],
   "source": [
    "df_clima[\"WindDir9am\"].unique()"
   ]
  },
  {
   "cell_type": "code",
   "execution_count": 336,
   "metadata": {},
   "outputs": [
    {
     "data": {
      "text/plain": [
       "array(['W', 'WNW', 'WSW', 'NE', 'NNW', 'N', 'NNE', 'SW', nan, 'ENE',\n",
       "       'SSE', 'S', 'NW', 'SE', 'ESE', 'E', 'SSW'], dtype=object)"
      ]
     },
     "execution_count": 336,
     "metadata": {},
     "output_type": "execute_result"
    }
   ],
   "source": [
    "df_clima[\"WindGustDir\"].unique()"
   ]
  },
  {
   "cell_type": "code",
   "execution_count": 337,
   "metadata": {},
   "outputs": [
    {
     "data": {
      "text/plain": [
       "array(['Albury', 'BadgerysCreek', 'Cobar', 'CoffsHarbour', 'Moree',\n",
       "       'Newcastle', 'NorahHead', 'NorfolkIsland', 'Penrith', 'Richmond',\n",
       "       'Sydney', 'SydneyAirport', 'WaggaWagga', 'Williamtown',\n",
       "       'Wollongong', 'Canberra', 'Tuggeranong', 'MountGinini', 'Ballarat',\n",
       "       'Bendigo', 'Sale', 'MelbourneAirport', 'Melbourne', 'Mildura',\n",
       "       'Nhil', 'Portland', 'Watsonia', 'Dartmoor', 'Brisbane', 'Cairns',\n",
       "       'GoldCoast', 'Townsville', 'Adelaide', 'MountGambier', 'Nuriootpa',\n",
       "       'Woomera', 'Albany', 'Witchcliffe', 'PearceRAAF', 'PerthAirport',\n",
       "       'Perth', 'SalmonGums', 'Walpole', 'Hobart', 'Launceston',\n",
       "       'AliceSprings', 'Darwin', 'Katherine', 'Uluru'], dtype=object)"
      ]
     },
     "execution_count": 337,
     "metadata": {},
     "output_type": "execute_result"
    }
   ],
   "source": [
    "df_clima[\"Location\"].unique()"
   ]
  },
  {
   "cell_type": "markdown",
   "metadata": {},
   "source": [
    "Consideramos que es mejor pasar las variables a tipo categorico ya que tiene una cantidad de valores unicos limitada"
   ]
  },
  {
   "cell_type": "code",
   "execution_count": 338,
   "metadata": {},
   "outputs": [],
   "source": [
    "df_clima['WindDir9am'] = df_clima['WindDir9am'].astype('category')\n",
    "df_clima['WindDir3pm'] = df_clima['WindDir3pm'].astype('category')\n",
    "df_clima['WindGustDir'] = df_clima['WindGustDir'].astype('category')\n",
    "df_clima['Location'] = df_clima['Location'].astype('category')"
   ]
  },
  {
   "cell_type": "markdown",
   "metadata": {},
   "source": [
    "## Train-Test"
   ]
  },
  {
   "cell_type": "code",
   "execution_count": 339,
   "metadata": {},
   "outputs": [],
   "source": [
    "X_train, X_test, y_train, y_test = train_test_split(df_clima.drop(columns=['RainTomorrow']), df_clima['RainTomorrow'], test_size=0.3, random_state=42)\n",
    "\n",
    "df_entrenamiento = pd.concat([X_train,y_train],axis=1)\n",
    "df_test = pd.concat([X_test,y_test],axis=1)"
   ]
  },
  {
   "cell_type": "markdown",
   "metadata": {},
   "source": [
    "## Analisis Exploratorio"
   ]
  },
  {
   "cell_type": "markdown",
   "metadata": {},
   "source": [
    "### Limpieza de Datos"
   ]
  },
  {
   "cell_type": "code",
   "execution_count": 340,
   "metadata": {},
   "outputs": [
    {
     "data": {
      "text/plain": [
       "Date                 0\n",
       "Location             0\n",
       "MinTemp           1025\n",
       "MaxTemp            863\n",
       "Rainfall          2282\n",
       "Evaporation      43955\n",
       "Sunshine         48920\n",
       "WindGustDir       7186\n",
       "WindGustSpeed     7145\n",
       "WindDir9am        7396\n",
       "WindDir3pm        2964\n",
       "WindSpeed9am      1237\n",
       "WindSpeed3pm      2138\n",
       "Humidity9am       1876\n",
       "Humidity3pm       3179\n",
       "Pressure9am      10550\n",
       "Pressure3pm      10536\n",
       "Cloud9am         39133\n",
       "Cloud3pm         41548\n",
       "Temp9am           1240\n",
       "Temp3pm           2539\n",
       "RainToday         2282\n",
       "RainTomorrow      2269\n",
       "dtype: int64"
      ]
     },
     "execution_count": 340,
     "metadata": {},
     "output_type": "execute_result"
    }
   ],
   "source": [
    "conteo_nan = df_entrenamiento.isnull().sum()\n",
    "conteo_nan"
   ]
  },
  {
   "cell_type": "markdown",
   "metadata": {},
   "source": [
    "Se puede observar que hay demasiados valores faltantes y ademas nuestro target tambien contiene"
   ]
  },
  {
   "cell_type": "code",
   "execution_count": 341,
   "metadata": {},
   "outputs": [
    {
     "name": "stdout",
     "output_type": "stream",
     "text": [
      "               count  percentage\n",
      "Date               0    0.000000\n",
      "Location           0    0.000000\n",
      "MinTemp         1025    1.006659\n",
      "MaxTemp          863    0.847558\n",
      "Rainfall        2282    2.241166\n",
      "Evaporation    43955   43.168470\n",
      "Sunshine       48920   48.044627\n",
      "WindGustDir     7186    7.057414\n",
      "WindGustSpeed   7145    7.017148\n",
      "WindDir9am      7396    7.263656\n",
      "WindDir3pm      2964    2.910962\n",
      "WindSpeed9am    1237    1.214865\n",
      "WindSpeed3pm    2138    2.099743\n",
      "Humidity9am     1876    1.842431\n",
      "Humidity3pm     3179    3.122115\n",
      "Pressure9am    10550   10.361219\n",
      "Pressure3pm    10536   10.347469\n",
      "Cloud9am       39133   38.432755\n",
      "Cloud3pm       41548   40.804541\n",
      "Temp9am         1240    1.217811\n",
      "Temp3pm         2539    2.493567\n",
      "RainToday       2282    2.241166\n",
      "RainTomorrow    2269    2.228399\n"
     ]
    }
   ],
   "source": [
    "# Que porcentaje del total de cada columna hay valores faltantes\n",
    "nan_percentage = (conteo_nan / len(df_entrenamiento)) * 100\n",
    "missing_data = pd.DataFrame({'count': conteo_nan, 'percentage': nan_percentage})\n",
    "print(missing_data)\n"
   ]
  },
  {
   "cell_type": "markdown",
   "metadata": {},
   "source": [
    "Como primera medida eliminaremos las fila que tengan la variable de salida nula o 18 o más columnas nulas ya que las consideramos irrelevantes para el analisis"
   ]
  },
  {
   "cell_type": "code",
   "execution_count": 342,
   "metadata": {},
   "outputs": [],
   "source": [
    "#Mantenemos las filas que contengan 18 o menos valores nulos\n",
    "df_entrenamiento = df_entrenamiento.dropna(thresh=18)\n",
    "\n",
    "#Eliminamos las filas que contienen la variable Target como nula\n",
    "df_entrenamiento = df_entrenamiento.dropna(subset=['RainTomorrow'])"
   ]
  },
  {
   "cell_type": "code",
   "execution_count": 343,
   "metadata": {},
   "outputs": [
    {
     "data": {
      "text/plain": [
       "Date                 0\n",
       "Location             0\n",
       "MinTemp             70\n",
       "MaxTemp             40\n",
       "Rainfall           446\n",
       "Evaporation      32557\n",
       "Sunshine         37118\n",
       "WindGustDir       3045\n",
       "WindGustSpeed     3030\n",
       "WindDir9am        4658\n",
       "WindDir3pm         433\n",
       "WindSpeed9am        58\n",
       "WindSpeed3pm        28\n",
       "Humidity9am        389\n",
       "Humidity3pm        828\n",
       "Pressure9am        732\n",
       "Pressure3pm        696\n",
       "Cloud9am         29521\n",
       "Cloud3pm         30930\n",
       "Temp9am             73\n",
       "Temp3pm            489\n",
       "RainToday          446\n",
       "RainTomorrow         0\n",
       "dtype: int64"
      ]
     },
     "execution_count": 343,
     "metadata": {},
     "output_type": "execute_result"
    }
   ],
   "source": [
    "nan_count_train = df_entrenamiento.isnull().sum()\n",
    "nan_count_train"
   ]
  },
  {
   "cell_type": "code",
   "execution_count": 344,
   "metadata": {},
   "outputs": [
    {
     "name": "stdout",
     "output_type": "stream",
     "text": [
      "<class 'pandas.core.frame.DataFrame'>\n",
      "Index: 88868 entries, 141565 to 121958\n",
      "Data columns (total 23 columns):\n",
      " #   Column         Non-Null Count  Dtype         \n",
      "---  ------         --------------  -----         \n",
      " 0   Date           88868 non-null  datetime64[ns]\n",
      " 1   Location       88868 non-null  category      \n",
      " 2   MinTemp        88798 non-null  float64       \n",
      " 3   MaxTemp        88828 non-null  float64       \n",
      " 4   Rainfall       88422 non-null  float64       \n",
      " 5   Evaporation    56311 non-null  float64       \n",
      " 6   Sunshine       51750 non-null  float64       \n",
      " 7   WindGustDir    85823 non-null  category      \n",
      " 8   WindGustSpeed  85838 non-null  float64       \n",
      " 9   WindDir9am     84210 non-null  category      \n",
      " 10  WindDir3pm     88435 non-null  category      \n",
      " 11  WindSpeed9am   88810 non-null  float64       \n",
      " 12  WindSpeed3pm   88840 non-null  float64       \n",
      " 13  Humidity9am    88479 non-null  float64       \n",
      " 14  Humidity3pm    88040 non-null  float64       \n",
      " 15  Pressure9am    88136 non-null  float64       \n",
      " 16  Pressure3pm    88172 non-null  float64       \n",
      " 17  Cloud9am       59347 non-null  float64       \n",
      " 18  Cloud3pm       57938 non-null  float64       \n",
      " 19  Temp9am        88795 non-null  float64       \n",
      " 20  Temp3pm        88379 non-null  float64       \n",
      " 21  RainToday      88422 non-null  category      \n",
      " 22  RainTomorrow   88868 non-null  category      \n",
      "dtypes: category(6), datetime64[ns](1), float64(16)\n",
      "memory usage: 12.7 MB\n"
     ]
    }
   ],
   "source": [
    "df_entrenamiento.info()"
   ]
  },
  {
   "cell_type": "code",
   "execution_count": 345,
   "metadata": {},
   "outputs": [
    {
     "data": {
      "text/plain": [
       "RainToday\n",
       "No     68689\n",
       "Yes    19733\n",
       "Name: count, dtype: int64"
      ]
     },
     "execution_count": 345,
     "metadata": {},
     "output_type": "execute_result"
    }
   ],
   "source": [
    "df_entrenamiento[\"RainToday\"].value_counts()"
   ]
  },
  {
   "cell_type": "markdown",
   "metadata": {},
   "source": [
    "Decidimos imputar con la moda ya que es amplia la diferencia entre las dos categorias"
   ]
  },
  {
   "cell_type": "code",
   "execution_count": 346,
   "metadata": {},
   "outputs": [],
   "source": [
    "df_entrenamiento[\"RainToday\"] = df_entrenamiento[\"RainToday\"].fillna(df_entrenamiento['RainToday'].mode()[0])"
   ]
  },
  {
   "cell_type": "markdown",
   "metadata": {},
   "source": [
    "Decidimos imputar los valores que tengan debajo de 1000 valores faltantes con la media ya que el porcentaje que representan del total de filas es practicamente despreciable"
   ]
  },
  {
   "cell_type": "code",
   "execution_count": 347,
   "metadata": {},
   "outputs": [],
   "source": [
    "# Supongamos que ya tienes el DataFrame 'df'\n",
    "\n",
    "# Identificar las columnas con menos de 1000 nulos\n",
    "cols_with_few_nans = df_entrenamiento.columns[df_entrenamiento.isnull().sum() < 1000]\n",
    "\n",
    "# Imputar con la media en las columnas seleccionadas\n",
    "for col in cols_with_few_nans:\n",
    "    if df_entrenamiento[col].dtype in ['float64', 'int64']:  # Solo columnas numéricas\n",
    "        df_entrenamiento[col] = df_entrenamiento[col].fillna(df_entrenamiento[col].mean())\n"
   ]
  },
  {
   "cell_type": "code",
   "execution_count": 348,
   "metadata": {},
   "outputs": [
    {
     "data": {
      "text/plain": [
       "Date                 0\n",
       "Location             0\n",
       "MinTemp              0\n",
       "MaxTemp              0\n",
       "Rainfall             0\n",
       "Evaporation      32557\n",
       "Sunshine         37118\n",
       "WindGustDir       3045\n",
       "WindGustSpeed     3030\n",
       "WindDir9am        4658\n",
       "WindDir3pm         433\n",
       "WindSpeed9am         0\n",
       "WindSpeed3pm         0\n",
       "Humidity9am          0\n",
       "Humidity3pm          0\n",
       "Pressure9am          0\n",
       "Pressure3pm          0\n",
       "Cloud9am         29521\n",
       "Cloud3pm         30930\n",
       "Temp9am              0\n",
       "Temp3pm              0\n",
       "RainToday            0\n",
       "RainTomorrow         0\n",
       "dtype: int64"
      ]
     },
     "execution_count": 348,
     "metadata": {},
     "output_type": "execute_result"
    }
   ],
   "source": [
    "nan_count_train = df_entrenamiento.isnull().sum()\n",
    "nan_count_train"
   ]
  },
  {
   "cell_type": "markdown",
   "metadata": {},
   "source": [
    "Hay columnas que cuentan con muchos valores nulos, vamos a ver su distribucion para tomar una mejor decision"
   ]
  },
  {
   "cell_type": "code",
   "execution_count": 349,
   "metadata": {},
   "outputs": [
    {
     "data": {
      "text/plain": [
       "<Axes: xlabel='Evaporation', ylabel='Density'>"
      ]
     },
     "execution_count": 349,
     "metadata": {},
     "output_type": "execute_result"
    },
    {
     "data": {
      "image/png": "[encoded data removed]",
      "text/plain": [
       "<Figure size 640x480 with 1 Axes>"
      ]
     },
     "metadata": {},
     "output_type": "display_data"
    }
   ],
   "source": [
    "sns.kdeplot(df_entrenamiento[\"Evaporation\"])\n",
    "sns.kdeplot(df_entrenamiento[\"Sunshine\"])"
   ]
  },
  {
   "cell_type": "markdown",
   "metadata": {},
   "source": [
    "Podemos observar una clara distribucion asimetrica a la derecha por lo tanto imputamos con la mediana ya que es mas robusta"
   ]
  },
  {
   "cell_type": "code",
   "execution_count": 350,
   "metadata": {},
   "outputs": [],
   "source": [
    "# Imputar los valores faltantes en 'Evaporation' y 'Sunshine' con la mediana\n",
    "df_entrenamiento['Evaporation'] = df_entrenamiento['Evaporation'].fillna(df_entrenamiento['Evaporation'].median())\n",
    "df_entrenamiento['Sunshine'] = df_entrenamiento['Sunshine'].fillna(df_entrenamiento['Sunshine'].median())\n"
   ]
  },
  {
   "cell_type": "markdown",
   "metadata": {},
   "source": [
    "Hacemos lo mismo para las otras columnas"
   ]
  },
  {
   "cell_type": "code",
   "execution_count": 351,
   "metadata": {},
   "outputs": [
    {
     "data": {
      "text/plain": [
       "<Axes: xlabel='Cloud3pm', ylabel='Density'>"
      ]
     },
     "execution_count": 351,
     "metadata": {},
     "output_type": "execute_result"
    },
    {
     "data": {
      "image/png": "[encoded data removed]",
      "text/plain": [
       "<Figure size 640x480 with 1 Axes>"
      ]
     },
     "metadata": {},
     "output_type": "display_data"
    }
   ],
   "source": [
    "sns.kdeplot(df_entrenamiento[\"Cloud3pm\"])\n",
    "sns.kdeplot(df_entrenamiento[\"Cloud9am\"])"
   ]
  },
  {
   "cell_type": "markdown",
   "metadata": {},
   "source": [
    "Dada la distribucion temporal, elegimos una ventana de 14 dias porque podemos notar un patron mas estacional en terminos de nubosidad"
   ]
  },
  {
   "cell_type": "code",
   "execution_count": 352,
   "metadata": {},
   "outputs": [],
   "source": [
    "df_entrenamiento['Cloud9am'] = df_entrenamiento['Cloud9am'].fillna(df_entrenamiento['Cloud9am'].rolling(window=14, min_periods=1).mean())\n",
    "df_entrenamiento['Cloud3pm'] = df_entrenamiento['Cloud3pm'].fillna(df_entrenamiento['Cloud3pm'].rolling(window=14, min_periods=1).mean())"
   ]
  },
  {
   "cell_type": "markdown",
   "metadata": {},
   "source": [
    "Ya que estas variables son objetc y no tienen una cantidad muy significativa de valores nulos, resolvimos el problema con propagacion de valores lo cual es util debido a la naturaleza temporal de los datos"
   ]
  },
  {
   "cell_type": "code",
   "execution_count": 353,
   "metadata": {},
   "outputs": [],
   "source": [
    "df_entrenamiento['WindGustDir'] = df_entrenamiento['WindGustDir'].ffill()\n",
    "df_entrenamiento['WindGustSpeed'] = df_entrenamiento['WindGustSpeed'].ffill()\n",
    "df_entrenamiento['WindDir9am'] = df_entrenamiento['WindDir9am'].ffill()\n",
    "df_entrenamiento['WindDir3pm'] = df_entrenamiento['WindDir3pm'].ffill()"
   ]
  },
  {
   "cell_type": "code",
   "execution_count": 354,
   "metadata": {},
   "outputs": [
    {
     "data": {
      "text/plain": [
       "Date             0\n",
       "Location         0\n",
       "MinTemp          0\n",
       "MaxTemp          0\n",
       "Rainfall         0\n",
       "Evaporation      0\n",
       "Sunshine         0\n",
       "WindGustDir      0\n",
       "WindGustSpeed    0\n",
       "WindDir9am       0\n",
       "WindDir3pm       0\n",
       "WindSpeed9am     0\n",
       "WindSpeed3pm     0\n",
       "Humidity9am      0\n",
       "Humidity3pm      0\n",
       "Pressure9am      0\n",
       "Pressure3pm      0\n",
       "Cloud9am         0\n",
       "Cloud3pm         0\n",
       "Temp9am          0\n",
       "Temp3pm          0\n",
       "RainToday        0\n",
       "RainTomorrow     0\n",
       "dtype: int64"
      ]
     },
     "execution_count": 354,
     "metadata": {},
     "output_type": "execute_result"
    }
   ],
   "source": [
    "nan_count_train = df_entrenamiento.isnull().sum()\n",
    "nan_count_train"
   ]
  }
 ],
 "metadata": {
  "kernelspec": {
   "display_name": "venv",
   "language": "python",
   "name": "python3"
  },
  "language_info": {
   "codemirror_mode": {
    "name": "ipython",
    "version": 3
   },
   "file_extension": ".py",
   "mimetype": "text/x-python",
   "name": "python",
   "nbconvert_exporter": "python",
   "pygments_lexer": "ipython3",
   "version": "3.12.5"
  }
 },
 "nbformat": 4,
 "nbformat_minor": 2
}
