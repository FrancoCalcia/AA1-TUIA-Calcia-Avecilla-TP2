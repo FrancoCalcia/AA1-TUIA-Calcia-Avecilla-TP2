{
 "cells": [
  {
   "cell_type": "markdown",
   "metadata": {},
   "source": [
    "# Predicción de Lluvia en Australia\n",
    "\n",
    "### Facultad de Ciencias Exactas, Ingeniería y Agrimensura  \n",
    "### Tecnicatura en Inteligencia Artificial  \n",
    "### Aprendizaje Automático 1  \n",
    "\n",
    "**Trabajo Práctico**: Predicción de lluvia utilizando modelos de clasificación y redes neuronales.\n",
    "\n",
    "**Autores**:  \n",
    "- Calcia Franco  \n",
    "- Avecilla Tomas  \n",
    "\n",
    "**Fecha**: Octubre 2024  \n",
    "\n",
    "---\n",
    "\n",
    "### Objetivo\n",
    "Desarrollar un modelo de predicción de la variable `RainTomorrow` basado en datos climáticos de Australia, utilizando técnicas de pre-procesamiento, modelado, evaluación y optimización de modelos, para su posterior puesta en producción.\n",
    "\n"
   ]
  },
  {
   "cell_type": "markdown",
   "metadata": {},
   "source": [
    "### Diccionario de Datos\n",
    "\n",
    "| Variable         | Descripción                                                       | Tipo        | Ejemplo       | Valores Faltantes |\n",
    "|-------------------|------------------------------------------------------------------|-------------|---------------|-------------------|\n",
    "| **Date**          | Fecha de la observación del clima.                               | object      | 2010-01-01    | 0                 |\n",
    "| **Location**      | Ciudad donde se realizó la medición del clima.                  | object      | Sydney        | 0                 |\n",
    "| **MinTemp**       | Temperatura mínima del día (en grados Celsius).                 | float64     | 12.3          | 1485              |\n",
    "| **MaxTemp**       | Temperatura máxima del día (en grados Celsius).                 | float64     | 28.9          | 1261              |\n",
    "| **Rainfall**      | Cantidad de lluvia caída en milímetros durante el día.          | float64     | 0.0           | 3261              |\n",
    "| **Evaporation**   | Evaporación en milímetros durante el día.                       | float64     | 0.0           | 62790             |\n",
    "| **Sunshine**      | Horas de sol durante el día.                                    | float64     | 8.0           | 69835             |\n",
    "| **WindGustDir**   | Dirección del viento racheado (en grados).                      | object      | NNE           | 10326             |\n",
    "| **WindGustSpeed** | Velocidad del viento racheado (en km/h).                        | float64     | 15.0          | 10263             |\n",
    "| **WindDir9am**    | Dirección del viento a las 9 am.                                | object      | NNE           | 10566             |\n",
    "| **WindDir3pm**    | Dirección del viento a las 3 pm.                                | object      | SSE           | 4228              |\n",
    "| **WindSpeed9am**  | Velocidad del viento a las 9 am (en km/h).                     | float64     | 5.0           | 1767              |\n",
    "| **WindSpeed3pm**  | Velocidad del viento a las 3 pm (en km/h).                     | float64     | 10.0          | 3062              |\n",
    "| **Humidity9am**   | Humedad relativa a las 9 am (%).                               | float64     | 65.0          | 2654              |\n",
    "| **Humidity3pm**   | Humedad relativa a las 3 pm (%).                               | float64     | 55.0          | 4507              |\n",
    "| **Pressure9am**   | Presión atmosférica a las 9 am (hPa).                          | float64     | 1012.0        | 15065             |\n",
    "| **Pressure3pm**   | Presión atmosférica a las 3 pm (hPa).                          | float64     | 1011.0        | 15028             |\n",
    "| **Cloud9am**      | Cobertura nubosa a las 9 am (en octavos).                      | float64     | 2.0           | 55888             |\n",
    "| **Cloud3pm**      | Cobertura nubosa a las 3 pm (en octavos).                      | float64     | 3.0           | 59358             |\n",
    "| **Temp9am**       | Temperatura a las 9 am (en grados Celsius).                    | float64     | 15.0          | 1767              |\n",
    "| **Temp3pm**       | Temperatura a las 3 pm (en grados Celsius).                    | float64     | 20.0          | 3609              |\n",
    "| **RainToday**     | Indica si llovió hoy (Yes/No).                                 | object      | Yes           | 3261              |\n",
    "| **RainTomorrow**  | Indica si lloverá mañana (Yes/No).                             | object      | No            | 3267              |\n"
   ]
  },
  {
   "cell_type": "markdown",
   "metadata": {},
   "source": [
    "## Preparación del entorno de trabajo"
   ]
  },
  {
   "cell_type": "code",
   "execution_count": 2,
   "metadata": {},
   "outputs": [],
   "source": [
    "import pandas as pd\n",
    "import numpy as np\n",
    "import matplotlib.pyplot as plt\n",
    "import seaborn as sns\n",
    "from sklearn.model_selection import train_test_split\n",
    "from sklearn.linear_model import LogisticRegression\n"
   ]
  },
  {
   "cell_type": "code",
   "execution_count": 1,
   "metadata": {},
   "outputs": [
    {
     "name": "stderr",
     "output_type": "stream",
     "text": [
      "Downloading...\n",
      "From: https://drive.google.com/uc?id=1yBz9nW8bcB7WCiwWhrjaU-Oifl-9L76D\n",
      "To: c:\\Users\\Usuario\\Desktop\\TUIA\\AA1-TUIA-Avecilla-Calcia\\AA1-TUIA-Calcia-Avecilla\\weatherAUS.csv\n",
      "\n",
      "  0%|          | 0.00/14.1M [00:00<?, ?B/s]\n",
      "  4%|▎         | 524k/14.1M [00:00<00:03, 3.93MB/s]\n",
      " 11%|█         | 1.57M/14.1M [00:00<00:02, 4.82MB/s]\n",
      " 19%|█▊        | 2.62M/14.1M [00:00<00:02, 5.03MB/s]\n",
      " 26%|██▌       | 3.67M/14.1M [00:00<00:01, 5.29MB/s]\n",
      " 30%|██▉       | 4.19M/14.1M [00:00<00:01, 5.27MB/s]\n",
      " 33%|███▎      | 4.72M/14.1M [00:00<00:01, 5.26MB/s]\n",
      " 41%|████      | 5.77M/14.1M [00:01<00:01, 5.32MB/s]\n",
      " 48%|████▊     | 6.82M/14.1M [00:01<00:01, 5.44MB/s]\n",
      " 56%|█████▌    | 7.86M/14.1M [00:01<00:01, 5.51MB/s]\n",
      " 63%|██████▎   | 8.91M/14.1M [00:01<00:00, 5.41MB/s]\n",
      " 71%|███████   | 9.96M/14.1M [00:01<00:00, 5.49MB/s]\n",
      " 78%|███████▊  | 11.0M/14.1M [00:02<00:00, 5.47MB/s]\n",
      " 86%|████████▌ | 12.1M/14.1M [00:02<00:00, 5.83MB/s]\n",
      " 93%|█████████▎| 13.1M/14.1M [00:02<00:00, 5.77MB/s]\n",
      "100%|██████████| 14.1M/14.1M [00:02<00:00, 6.02MB/s]\n",
      "100%|██████████| 14.1M/14.1M [00:02<00:00, 5.53MB/s]\n"
     ]
    }
   ],
   "source": [
    "!gdown \"1yBz9nW8bcB7WCiwWhrjaU-Oifl-9L76D\" --output \"weatherAUS.csv\""
   ]
  },
  {
   "cell_type": "code",
   "execution_count": 6,
   "metadata": {},
   "outputs": [
    {
     "name": "stdout",
     "output_type": "stream",
     "text": [
      "<class 'pandas.core.frame.DataFrame'>\n",
      "RangeIndex: 145460 entries, 0 to 145459\n",
      "Data columns (total 23 columns):\n",
      " #   Column         Non-Null Count   Dtype  \n",
      "---  ------         --------------   -----  \n",
      " 0   Date           145460 non-null  object \n",
      " 1   Location       145460 non-null  object \n",
      " 2   MinTemp        143975 non-null  float64\n",
      " 3   MaxTemp        144199 non-null  float64\n",
      " 4   Rainfall       142199 non-null  float64\n",
      " 5   Evaporation    82670 non-null   float64\n",
      " 6   Sunshine       75625 non-null   float64\n",
      " 7   WindGustDir    135134 non-null  object \n",
      " 8   WindGustSpeed  135197 non-null  float64\n",
      " 9   WindDir9am     134894 non-null  object \n",
      " 10  WindDir3pm     141232 non-null  object \n",
      " 11  WindSpeed9am   143693 non-null  float64\n",
      " 12  WindSpeed3pm   142398 non-null  float64\n",
      " 13  Humidity9am    142806 non-null  float64\n",
      " 14  Humidity3pm    140953 non-null  float64\n",
      " 15  Pressure9am    130395 non-null  float64\n",
      " 16  Pressure3pm    130432 non-null  float64\n",
      " 17  Cloud9am       89572 non-null   float64\n",
      " 18  Cloud3pm       86102 non-null   float64\n",
      " 19  Temp9am        143693 non-null  float64\n",
      " 20  Temp3pm        141851 non-null  float64\n",
      " 21  RainToday      142199 non-null  object \n",
      " 22  RainTomorrow   142193 non-null  object \n",
      "dtypes: float64(16), object(7)\n",
      "memory usage: 25.5+ MB\n",
      "None\n"
     ]
    }
   ],
   "source": [
    "df_clima = pd.read_csv(\"weatherAUS.csv\")\n",
    "print(df_clima.info())"
   ]
  },
  {
   "cell_type": "markdown",
   "metadata": {},
   "source": [
    "## Aalisis Descriptivo"
   ]
  },
  {
   "cell_type": "markdown",
   "metadata": {},
   "source": [
    "### Analisis de variables en crudo"
   ]
  },
  {
   "cell_type": "code",
   "execution_count": null,
   "metadata": {},
   "outputs": [],
   "source": []
  },
  {
   "cell_type": "markdown",
   "metadata": {},
   "source": [
    "### Manejo de valores faltantes/nulos"
   ]
  },
  {
   "cell_type": "code",
   "execution_count": 4,
   "metadata": {},
   "outputs": [
    {
     "data": {
      "text/plain": [
       "Date                 0\n",
       "Location             0\n",
       "MinTemp           1485\n",
       "MaxTemp           1261\n",
       "Rainfall          3261\n",
       "Evaporation      62790\n",
       "Sunshine         69835\n",
       "WindGustDir      10326\n",
       "WindGustSpeed    10263\n",
       "WindDir9am       10566\n",
       "WindDir3pm        4228\n",
       "WindSpeed9am      1767\n",
       "WindSpeed3pm      3062\n",
       "Humidity9am       2654\n",
       "Humidity3pm       4507\n",
       "Pressure9am      15065\n",
       "Pressure3pm      15028\n",
       "Cloud9am         55888\n",
       "Cloud3pm         59358\n",
       "Temp9am           1767\n",
       "Temp3pm           3609\n",
       "RainToday         3261\n",
       "RainTomorrow      3267\n",
       "dtype: int64"
      ]
     },
     "execution_count": 4,
     "metadata": {},
     "output_type": "execute_result"
    }
   ],
   "source": [
    "df_clima.isnull().sum()"
   ]
  },
  {
   "cell_type": "markdown",
   "metadata": {},
   "source": [
    "Como se puede ver tenemos muchas observaciones con datos faltantes por lo cual vamos a trabajar sobre ellos..."
   ]
  },
  {
   "cell_type": "code",
   "execution_count": null,
   "metadata": {},
   "outputs": [],
   "source": []
  },
  {
   "cell_type": "markdown",
   "metadata": {},
   "source": [
    "### Analisis de variables post limpieza"
   ]
  },
  {
   "cell_type": "code",
   "execution_count": null,
   "metadata": {},
   "outputs": [],
   "source": []
  }
 ],
 "metadata": {
  "kernelspec": {
   "display_name": "venv",
   "language": "python",
   "name": "python3"
  },
  "language_info": {
   "codemirror_mode": {
    "name": "ipython",
    "version": 3
   },
   "file_extension": ".py",
   "mimetype": "text/x-python",
   "name": "python",
   "nbconvert_exporter": "python",
   "pygments_lexer": "ipython3",
   "version": "3.10.11"
  }
 },
 "nbformat": 4,
 "nbformat_minor": 2
}
