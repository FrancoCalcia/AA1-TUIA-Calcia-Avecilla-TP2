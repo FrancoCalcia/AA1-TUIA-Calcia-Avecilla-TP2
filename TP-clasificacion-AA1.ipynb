{
 "cells": [
  {
   "cell_type": "markdown",
   "metadata": {},
   "source": [
    "# Predicción de Lluvia en Australia\n",
    "\n",
    "### Facultad de Ciencias Exactas, Ingeniería y Agrimensura  \n",
    "### Tecnicatura en Inteligencia Artificial  \n",
    "### Aprendizaje Automático 1  \n",
    "\n",
    "**Trabajo Práctico**: Predicción de lluvia utilizando modelos de clasificación y redes neuronales.\n",
    "\n",
    "**Autores**:  \n",
    "- Calcia Franco  \n",
    "- Avecilla Tomas  \n",
    "\n",
    "**Fecha**: Octubre 2024  \n",
    "\n",
    "---\n",
    "\n",
    "### Objetivo\n",
    "Desarrollar un modelo de predicción de la variable `RainTomorrow` basado en datos climáticos de Australia, utilizando técnicas de pre-procesamiento, modelado, evaluación y optimización de modelos, para su posterior puesta en producción.\n",
    "\n"
   ]
  },
  {
   "cell_type": "markdown",
   "metadata": {},
   "source": [
    "### Diccionario de datos"
   ]
  },
  {
   "cell_type": "markdown",
   "metadata": {},
   "source": [
    "## Preparación del entorno de trabajo"
   ]
  },
  {
   "cell_type": "code",
   "execution_count": null,
   "metadata": {
    "vscode": {
     "languageId": "plaintext"
    }
   },
   "outputs": [],
   "source": [
    "!gdown \"1yBz9nW8bcB7WCiwWhrjaU-Oifl-9L76D\" --output \"weatherAUS.csv\""
   ]
  }
 ],
 "metadata": {
  "language_info": {
   "name": "python"
  }
 },
 "nbformat": 4,
 "nbformat_minor": 2
}
